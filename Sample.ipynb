{
 "cells": [
  {
   "cell_type": "code",
   "execution_count": 1,
   "metadata": {
    "tags": [
     "imports"
    ]
   },
   "outputs": [],
   "source": [
    "import pandas as pd\n",
    "from sklearn.linear_model import SGDClassifier\n",
    "from sklearn.metrics import confusion_matrix\n",
    "from sklearn.model_selection import train_test_split\n",
    "from sklearn.model_selection import cross_val_score, KFold\n",
    "from sklearn.feature_extraction.text import HashingVectorizer\n",
    "import sys\n",
    "import os\n",
    "\n",
    "import pickle\n",
    "import re\n",
    "\n",
    "import warnings\n",
    "\n",
    "import kfp\n",
    "import kfp.components as components\n",
    "import kfp.dsl as dsl\n",
    "import kubeflow.fairing.utils\n",
    "\n",
    "from kfp.components import InputPath, OutputPath\n",
    "\n",
    "from kubernetes import client, config\n",
    "\n",
    "\n",
    "import urllib.request\n",
    "\n",
    "\n",
    "import requests\n",
    "\n",
    "import os\n",
    "import boto3\n",
    "from botocore.client import Config\n",
    "\n",
    "import pickle\n",
    "from io import StringIO\n",
    "from kale.common.serveutils import serve\n",
    "from text_cleaner_2000.text_cleaner import TextCleaner\n",
    "\n",
    "warnings.filterwarnings('ignore')\n",
    "NAMESPACE = kubeflow.fairing.utils.get_current_k8s_namespace()"
   ]
  },
  {
   "cell_type": "code",
   "execution_count": 29,
   "metadata": {
    "tags": [
     "block:get_data"
    ]
   },
   "outputs": [],
   "source": [
    "url = \"http://minio-service.kubeflow.svc.cluster.local:9000/hatterasuser/data/ratings_shuffled.csv\" #minio server\n",
    "\n",
    "req = requests.get(url)\n",
    "content = req.content\n",
    "df = pd.read_csv(StringIO(str(content, 'utf-8')))"
   ]
  },
  {
   "cell_type": "code",
   "execution_count": 30,
   "metadata": {
    "tags": [
     "skip"
    ]
   },
   "outputs": [
    {
     "data": {
      "text/html": [
       "<div>\n",
       "<style scoped>\n",
       "    .dataframe tbody tr th:only-of-type {\n",
       "        vertical-align: middle;\n",
       "    }\n",
       "\n",
       "    .dataframe tbody tr th {\n",
       "        vertical-align: top;\n",
       "    }\n",
       "\n",
       "    .dataframe thead th {\n",
       "        text-align: right;\n",
       "    }\n",
       "</style>\n",
       "<table border=\"1\" class=\"dataframe\">\n",
       "  <thead>\n",
       "    <tr style=\"text-align: right;\">\n",
       "      <th></th>\n",
       "      <th>review</th>\n",
       "      <th>sentiment</th>\n",
       "    </tr>\n",
       "  </thead>\n",
       "  <tbody>\n",
       "    <tr>\n",
       "      <th>0</th>\n",
       "      <td>First of all, I have to start this comment by ...</td>\n",
       "      <td>1</td>\n",
       "    </tr>\n",
       "    <tr>\n",
       "      <th>1</th>\n",
       "      <td>The brilliance of this story delivers at least...</td>\n",
       "      <td>1</td>\n",
       "    </tr>\n",
       "    <tr>\n",
       "      <th>2</th>\n",
       "      <td>Spheeris debut must be one of the best music d...</td>\n",
       "      <td>1</td>\n",
       "    </tr>\n",
       "    <tr>\n",
       "      <th>3</th>\n",
       "      <td>I have to admit that I had low expectations fo...</td>\n",
       "      <td>1</td>\n",
       "    </tr>\n",
       "    <tr>\n",
       "      <th>4</th>\n",
       "      <td>Ying, a Chinese girl who speaks Czech, invited...</td>\n",
       "      <td>1</td>\n",
       "    </tr>\n",
       "  </tbody>\n",
       "</table>\n",
       "</div>"
      ],
      "text/plain": [
       "                                              review  sentiment\n",
       "0  First of all, I have to start this comment by ...          1\n",
       "1  The brilliance of this story delivers at least...          1\n",
       "2  Spheeris debut must be one of the best music d...          1\n",
       "3  I have to admit that I had low expectations fo...          1\n",
       "4  Ying, a Chinese girl who speaks Czech, invited...          1"
      ]
     },
     "execution_count": 30,
     "metadata": {},
     "output_type": "execute_result"
    }
   ],
   "source": [
    "df.head()"
   ]
  },
  {
   "cell_type": "code",
   "execution_count": null,
   "metadata": {
    "tags": [
     "block:clean_data",
     "prev:get_data"
    ]
   },
   "outputs": [],
   "source": [
    "cleaner = TextCleaner()"
   ]
  },
  {
   "cell_type": "code",
   "execution_count": 35,
   "metadata": {
    "tags": []
   },
   "outputs": [],
   "source": [
    "df['review'] = cleaner.alpha_iterator(df['review'], remove_emoticon=False)"
   ]
  },
  {
   "cell_type": "code",
   "execution_count": 36,
   "metadata": {
    "tags": []
   },
   "outputs": [],
   "source": [
    "df['review'] = cleaner.stop_word_iterator(df['review'])"
   ]
  },
  {
   "cell_type": "code",
   "execution_count": 40,
   "metadata": {
    "tags": [
     "block:"
    ]
   },
   "outputs": [],
   "source": [
    "x = df['review'].values\n",
    "y = df['sentiment'].values\n",
    "xtrain, xtest, ytrain, ytest=train_test_split(x, y, test_size=0.15)\n",
    "vect = HashingVectorizer(decode_error = 'ignore',\n",
    "                        n_features = 2**20,\n",
    "                        preprocessor = None,\n",
    "                        tokenizer = None)"
   ]
  },
  {
   "cell_type": "code",
   "execution_count": 41,
   "metadata": {
    "tags": []
   },
   "outputs": [],
   "source": [
    "xtrain = vect.transform(xtrain)"
   ]
  },
  {
   "cell_type": "code",
   "execution_count": 42,
   "metadata": {
    "tags": []
   },
   "outputs": [],
   "source": [
    "xtest = vect.transform(xtest)"
   ]
  },
  {
   "cell_type": "code",
   "execution_count": 43,
   "metadata": {
    "tags": []
   },
   "outputs": [],
   "source": [
    "x = vect.transform(x) # for final model"
   ]
  },
  {
   "cell_type": "code",
   "execution_count": 37,
   "metadata": {
    "tags": [
     "skip"
    ]
   },
   "outputs": [
    {
     "data": {
      "text/html": [
       "<div>\n",
       "<style scoped>\n",
       "    .dataframe tbody tr th:only-of-type {\n",
       "        vertical-align: middle;\n",
       "    }\n",
       "\n",
       "    .dataframe tbody tr th {\n",
       "        vertical-align: top;\n",
       "    }\n",
       "\n",
       "    .dataframe thead th {\n",
       "        text-align: right;\n",
       "    }\n",
       "</style>\n",
       "<table border=\"1\" class=\"dataframe\">\n",
       "  <thead>\n",
       "    <tr style=\"text-align: right;\">\n",
       "      <th></th>\n",
       "      <th>review</th>\n",
       "      <th>sentiment</th>\n",
       "    </tr>\n",
       "  </thead>\n",
       "  <tbody>\n",
       "    <tr>\n",
       "      <th>0</th>\n",
       "      <td>start comment saying huge nightmare elm street...</td>\n",
       "      <td>1</td>\n",
       "    </tr>\n",
       "    <tr>\n",
       "      <th>1</th>\n",
       "      <td>brilliance story delivers skillfully crafted m...</td>\n",
       "      <td>1</td>\n",
       "    </tr>\n",
       "    <tr>\n",
       "      <th>2</th>\n",
       "      <td>spheeris debut best music documentaries time f...</td>\n",
       "      <td>1</td>\n",
       "    </tr>\n",
       "    <tr>\n",
       "      <th>3</th>\n",
       "      <td>admit low expectations movie surprised enterta...</td>\n",
       "      <td>1</td>\n",
       "    </tr>\n",
       "    <tr>\n",
       "      <th>4</th>\n",
       "      <td>ying chinese girl speaks czech invited screeni...</td>\n",
       "      <td>1</td>\n",
       "    </tr>\n",
       "  </tbody>\n",
       "</table>\n",
       "</div>"
      ],
      "text/plain": [
       "                                              review  sentiment\n",
       "0  start comment saying huge nightmare elm street...          1\n",
       "1  brilliance story delivers skillfully crafted m...          1\n",
       "2  spheeris debut best music documentaries time f...          1\n",
       "3  admit low expectations movie surprised enterta...          1\n",
       "4  ying chinese girl speaks czech invited screeni...          1"
      ]
     },
     "execution_count": 37,
     "metadata": {},
     "output_type": "execute_result"
    }
   ],
   "source": [
    "df.head()"
   ]
  },
  {
   "cell_type": "code",
   "execution_count": 44,
   "metadata": {
    "tags": [
     "block:model_definition",
     "prev:clean_data"
    ]
   },
   "outputs": [],
   "source": [
    "clf = SGDClassifier(loss=\"log\").fit(xtrain, ytrain)"
   ]
  },
  {
   "cell_type": "code",
   "execution_count": 45,
   "metadata": {
    "tags": [
     "block:fit_model",
     "prev:model_definition"
    ]
   },
   "outputs": [],
   "source": [
    "model = SGDClassifier(loss=\"log\").fit(xtest, ytest)"
   ]
  },
  {
   "cell_type": "code",
   "execution_count": 46,
   "metadata": {
    "tags": [
     "block:save_model_to_minio",
     "prev:fit_model"
    ]
   },
   "outputs": [],
   "source": [
    "# save file to pickle\n",
    "with open(\"model.pkl\", \"wb\") as file:\n",
    "    \n",
    "    pickle.dump(model, file)"
   ]
  },
  {
   "cell_type": "code",
   "execution_count": 2,
   "metadata": {
    "tags": []
   },
   "outputs": [],
   "source": [
    "base = f'kubectl -n {NAMESPACE} get secret mlpipeline-minio-artifact '\n",
    "\n",
    "command =  base + '-o jsonpath=\"{.data.accesskey}\" | base64 -d'\n",
    "stream = os.popen(command)\n",
    "aws_access_key_id  = stream.read()\n",
    "\n",
    "command = base +  '-o jsonpath=\"{.data.secretkey}\" | base64 -d'\n",
    "stream = os.popen(command)\n",
    "aws_secret_access_key  = stream.read()\n"
   ]
  },
  {
   "cell_type": "code",
   "execution_count": 3,
   "metadata": {
    "tags": []
   },
   "outputs": [],
   "source": [
    "s3 = boto3.client(\n",
    "        \"s3\",\n",
    "        endpoint_url=\"http://minio-service.kubeflow.svc.cluster.local:9000\",\n",
    "        aws_access_key_id=aws_access_key_id,\n",
    "        aws_secret_access_key=aws_secret_access_key,\n",
    "        config=Config(signature_version=\"s3v4\"),\n",
    "    )\n"
   ]
  },
  {
   "cell_type": "code",
   "execution_count": 4,
   "metadata": {
    "tags": []
   },
   "outputs": [],
   "source": [
    "model_name = \"sentiment-model\"\n",
    "model_version = \"1\"\n",
    "\n",
    "s3.upload_file(\"model.pkl\",\n",
    "                NAMESPACE,\n",
    "                f\"models/{model_name}-{model_version}.pkl\",\n",
    "                ExtraArgs={\"ACL\": \"public-read\"},\n",
    "            )"
   ]
  },
  {
   "cell_type": "code",
   "execution_count": null,
   "metadata": {},
   "outputs": [],
   "source": []
  }
 ],
 "metadata": {
  "kernelspec": {
   "display_name": "Python 3",
   "language": "python",
   "name": "python3"
  },
  "kubeflow_notebook": {
   "autosnapshot": false,
   "docker_image": "johnb340/sentiment-example:v5",
   "experiment": {
    "id": "new",
    "name": "test"
   },
   "experiment_name": "test",
   "katib_metadata": {
    "algorithm": {
     "algorithmName": "grid"
    },
    "maxFailedTrialCount": 3,
    "maxTrialCount": 12,
    "objective": {
     "objectiveMetricName": "",
     "type": "minimize"
    },
    "parallelTrialCount": 3,
    "parameters": []
   },
   "katib_run": false,
   "pipeline_description": "",
   "pipeline_name": "sentiment-deploy",
   "snapshot_volumes": false,
   "steps_defaults": [],
   "volume_access_mode": "rwm",
   "volumes": []
  },
  "language_info": {
   "codemirror_mode": {
    "name": "ipython",
    "version": 3
   },
   "file_extension": ".py",
   "mimetype": "text/x-python",
   "name": "python",
   "nbconvert_exporter": "python",
   "pygments_lexer": "ipython3",
   "version": "3.6.8"
  }
 },
 "nbformat": 4,
 "nbformat_minor": 4
}
